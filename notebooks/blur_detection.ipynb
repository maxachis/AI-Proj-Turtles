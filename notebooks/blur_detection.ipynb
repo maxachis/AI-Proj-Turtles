{
 "cells": [
  {
   "cell_type": "code",
   "execution_count": 13,
   "id": "b44895d7",
   "metadata": {},
   "outputs": [],
   "source": [
    "# import the necessary packages\n",
    "from imutils import paths\n",
    "import argparse\n",
    "import cv2\n",
    "import os\n",
    "def variance_of_laplacian(image):\n",
    "\t# compute the Laplacian of the image and then return the focus\n",
    "\t# measure, which is simply the variance of the Laplacian\n",
    "\treturn cv2.Laplacian(image, cv2.CV_64F).var()\n",
    "# construct the argument parse and parse the arguments"
   ]
  },
  {
   "cell_type": "code",
   "execution_count": 14,
   "id": "44d9f012",
   "metadata": {},
   "outputs": [],
   "source": [
    "threshold = 100\n",
    "if not os.path.isdir('turtle_noblur'):\n",
    "    os.mkdir('turtle_noblur')\n",
    "path = \"./turtles-origcrop/\"\n",
    "noblur_path = './turtle_noblur/'\n",
    "for imagePath in paths.list_images(path):\n",
    "    # load the image, convert it to grayscale, and compute the\n",
    "    # focus measure of the image using the Variance of Laplacian\n",
    "    # method\n",
    "    image = cv2.imread(imagePath)\n",
    "    gray = cv2.cvtColor(image, cv2.COLOR_BGR2GRAY)\n",
    "    fm = variance_of_laplacian(gray)\n",
    "    # if the focus measure is less than the supplied threshold,\n",
    "    # then the image should be considered \"blurry\"\n",
    "    if fm > threshold:\n",
    "        #Otherwise, save to new \"turtles-noblur\" folder\n",
    "        filename = imagePath.replace(path, \"\")\n",
    "        cv2.imwrite(noblur_path+filename, image)\n",
    "        \n"
   ]
  }
 ],
 "metadata": {
  "kernelspec": {
   "display_name": "Python 3 (ipykernel)",
   "language": "python",
   "name": "python3"
  },
  "language_info": {
   "codemirror_mode": {
    "name": "ipython",
    "version": 3
   },
   "file_extension": ".py",
   "mimetype": "text/x-python",
   "name": "python",
   "nbconvert_exporter": "python",
   "pygments_lexer": "ipython3",
   "version": "3.9.7"
  }
 },
 "nbformat": 4,
 "nbformat_minor": 5
}
